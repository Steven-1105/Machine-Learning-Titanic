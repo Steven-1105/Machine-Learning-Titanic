{
 "cells": [
  {
   "cell_type": "markdown",
   "id": "f0bef13b",
   "metadata": {},
   "source": [
    "# Voici un programme pour tester notre modèle "
   ]
  },
  {
   "cell_type": "code",
   "execution_count": 153,
   "id": "7fc5606e",
   "metadata": {},
   "outputs": [],
   "source": [
    "import pandas as pd\n",
    "from pandas import Series, DataFrame\n",
    "import numpy as np\n",
    "import warnings\n",
    "warnings.filterwarnings('ignore')"
   ]
  },
  {
   "cell_type": "code",
   "execution_count": 154,
   "id": "4ad5c763",
   "metadata": {},
   "outputs": [],
   "source": [
    "#la lecture des données\n",
    "train=pd.read_csv(\"train.csv\")"
   ]
  },
  {
   "cell_type": "code",
   "execution_count": 155,
   "id": "172e2b84",
   "metadata": {},
   "outputs": [],
   "source": [
    "#Mappage des données de la colonne Age\n",
    "train['Age'] = train['Age'].fillna(train.query('Pclass==1')['Age'].median())\n",
    "train['Age'] = train['Age'].fillna(train.query('Pclass==2')['Age'].median())\n",
    "train['Age'] = train['Age'].fillna(train.query('Pclass==3')['Age'].median())\n",
    "\n",
    "#Mappage des données de la colonne Sex\n",
    "train.loc[train.Sex==\"male\",'Sex']='0'\n",
    "train.loc[train.Sex==\"female\",'Sex']='1'\n",
    "\n",
    "#Mappage des données de la colonne Embarked\n",
    "train.loc[train.Embarked==\"C\",'Embarked']='1'\n",
    "train.loc[train.Embarked==\"S\",'Embarked']='2'\n",
    "train.loc[train.Embarked.isna(),'Embarked']='2'\n",
    "train.loc[train.Embarked==\"Q\",'Embarked']='3'\n",
    "\n",
    "train['Fare'] = train['Fare'].fillna(train['Fare'].median())\n",
    "train['Fare'] =(train['Fare']-train['Fare'].mean())/train['Fare'].std()\n",
    "train['Age']=(train['Age']-train['Age'].mean())/train['Age'].std()\n",
    "\n",
    "features_drop=['Name','Ticket','Cabin','PassengerId']\n",
    "train=train.drop(features_drop, axis=1)"
   ]
  },
  {
   "cell_type": "markdown",
   "id": "49021d21",
   "metadata": {},
   "source": [
    "## On utilise des nouveaux passagers pour tester le modèle"
   ]
  },
  {
   "cell_type": "code",
   "execution_count": 156,
   "id": "8f58123f",
   "metadata": {},
   "outputs": [
    {
     "data": {
      "text/html": [
       "<div>\n",
       "<style scoped>\n",
       "    .dataframe tbody tr th:only-of-type {\n",
       "        vertical-align: middle;\n",
       "    }\n",
       "\n",
       "    .dataframe tbody tr th {\n",
       "        vertical-align: top;\n",
       "    }\n",
       "\n",
       "    .dataframe thead th {\n",
       "        text-align: right;\n",
       "    }\n",
       "</style>\n",
       "<table border=\"1\" class=\"dataframe\">\n",
       "  <thead>\n",
       "    <tr style=\"text-align: right;\">\n",
       "      <th></th>\n",
       "      <th>PassengerId</th>\n",
       "      <th>Pclass</th>\n",
       "      <th>Name</th>\n",
       "      <th>Sex</th>\n",
       "      <th>Age</th>\n",
       "      <th>SibSp</th>\n",
       "      <th>Parch</th>\n",
       "      <th>Ticket</th>\n",
       "      <th>Fare</th>\n",
       "      <th>Cabin</th>\n",
       "      <th>Embarked</th>\n",
       "    </tr>\n",
       "  </thead>\n",
       "  <tbody>\n",
       "    <tr>\n",
       "      <th>0</th>\n",
       "      <td>1</td>\n",
       "      <td>1</td>\n",
       "      <td>Smith, Mr.John</td>\n",
       "      <td>male</td>\n",
       "      <td>25</td>\n",
       "      <td>2</td>\n",
       "      <td>1</td>\n",
       "      <td>PC 17582</td>\n",
       "      <td>70</td>\n",
       "      <td>C62 C64</td>\n",
       "      <td>C</td>\n",
       "    </tr>\n",
       "    <tr>\n",
       "      <th>1</th>\n",
       "      <td>2</td>\n",
       "      <td>1</td>\n",
       "      <td>Lin,Mr. Hongxiang</td>\n",
       "      <td>male</td>\n",
       "      <td>20</td>\n",
       "      <td>1</td>\n",
       "      <td>3</td>\n",
       "      <td>PC 15532</td>\n",
       "      <td>500</td>\n",
       "      <td>B43 B78</td>\n",
       "      <td>C</td>\n",
       "    </tr>\n",
       "    <tr>\n",
       "      <th>2</th>\n",
       "      <td>3</td>\n",
       "      <td>3</td>\n",
       "      <td>Antoine, Mr.David</td>\n",
       "      <td>male</td>\n",
       "      <td>45</td>\n",
       "      <td>4</td>\n",
       "      <td>6</td>\n",
       "      <td>345678</td>\n",
       "      <td>8</td>\n",
       "      <td>NaN</td>\n",
       "      <td>Q</td>\n",
       "    </tr>\n",
       "    <tr>\n",
       "      <th>3</th>\n",
       "      <td>4</td>\n",
       "      <td>2</td>\n",
       "      <td>Alice, Mlle.Sarah</td>\n",
       "      <td>female</td>\n",
       "      <td>28</td>\n",
       "      <td>0</td>\n",
       "      <td>1</td>\n",
       "      <td>23444</td>\n",
       "      <td>40</td>\n",
       "      <td>NaN</td>\n",
       "      <td>S</td>\n",
       "    </tr>\n",
       "  </tbody>\n",
       "</table>\n",
       "</div>"
      ],
      "text/plain": [
       "   PassengerId  Pclass               Name     Sex  Age  SibSp  Parch  \\\n",
       "0            1       1     Smith, Mr.John    male   25      2      1   \n",
       "1            2       1  Lin,Mr. Hongxiang    male   20      1      3   \n",
       "2            3       3  Antoine, Mr.David    male   45      4      6   \n",
       "3            4       2  Alice, Mlle.Sarah  female   28      0      1   \n",
       "\n",
       "     Ticket  Fare    Cabin Embarked  \n",
       "0  PC 17582    70  C62 C64        C  \n",
       "1  PC 15532   500  B43 B78        C  \n",
       "2    345678     8      NaN        Q  \n",
       "3     23444    40      NaN        S  "
      ]
     },
     "execution_count": 156,
     "metadata": {},
     "output_type": "execute_result"
    }
   ],
   "source": [
    "#Voici des nouveaux passagers intéressants avec des données personnaliseés\n",
    "nouveaux_passagers = pd.DataFrame([\n",
    "    #Passager numéro 1\n",
    "    {'PassengerId':1,\n",
    "    \"Pclass\": 1,\n",
    "    \"Name\": \"Smith, Mr.John\",\n",
    "    \"Sex\": \"male\",\n",
    "    \"Age\": 25,\n",
    "    \"SibSp\": 2,\n",
    "    \"Parch\": 1,\n",
    "    \"Ticket\": \"PC 17582\",\n",
    "    \"Fare\": 70,\n",
    "    \"Cabin\": \"C62 C64\",\n",
    "    \"Embarked\": \"C\"},\n",
    "    \n",
    "    #Passager numéro 2\n",
    "    {'PassengerId':2,\n",
    "    \"Pclass\": 1,\n",
    "    \"Name\": \"Lin,Mr. Hongxiang\",\n",
    "    \"Sex\": \"male\",\n",
    "    \"Age\": 20,\n",
    "    \"SibSp\": 1,\n",
    "    \"Parch\": 3,\n",
    "    \"Ticket\": \"PC 15532\",\n",
    "    \"Fare\": 500,\n",
    "    \"Cabin\": \"B43 B78\",\n",
    "    \"Embarked\": \"C\"},\n",
    "    \n",
    "    #Passager numéro 3\n",
    "    {'PassengerId':3,\n",
    "    \"Pclass\": 3,\n",
    "    \"Name\": \"Antoine, Mr.David\",\n",
    "    \"Sex\": \"male\",\n",
    "    \"Age\": 45,\n",
    "    \"SibSp\": 4,\n",
    "    \"Parch\": 6,\n",
    "    \"Ticket\": \"345678\",\n",
    "    \"Fare\": 8,\n",
    "    \"Cabin\": np.nan,\n",
    "    \"Embarked\": \"Q\"},\n",
    "    \n",
    "    #Passager numéro 4\n",
    "    {'PassengerId':4,\n",
    "    \"Pclass\": 2,\n",
    "    \"Name\": \"Alice, Mlle.Sarah\",\n",
    "    \"Sex\": \"female\",\n",
    "    \"Age\": 28,\n",
    "    \"SibSp\": 0,\n",
    "    \"Parch\": 1,\n",
    "    \"Ticket\": \"23444\",\n",
    "    \"Fare\": 40,\n",
    "    \"Cabin\": np.nan,\n",
    "    \"Embarked\": \"S\"}\n",
    "])\n",
    "nouveaux_passagers.head()"
   ]
  },
  {
   "cell_type": "markdown",
   "id": "43062786",
   "metadata": {},
   "source": [
    "# L'algorithme de prédiction avec Random Forest\n"
   ]
  },
  {
   "cell_type": "code",
   "execution_count": 157,
   "id": "9f7f16ee",
   "metadata": {},
   "outputs": [],
   "source": [
    "#Importation du modèle de Random Forest que nous allons utiliser car il est le meilleur modèle selon notre score de submission sur Kaggle\n",
    "from sklearn.ensemble import RandomForestClassifier\n",
    "from sklearn.model_selection import train_test_split"
   ]
  },
  {
   "cell_type": "code",
   "execution_count": 158,
   "id": "0857de48",
   "metadata": {},
   "outputs": [],
   "source": [
    "#On utilise les données de ces passagers comme un nouveau test\n",
    "test = nouveaux_passagers\n",
    "test_ids=test['PassengerId']"
   ]
  },
  {
   "cell_type": "code",
   "execution_count": 159,
   "id": "233a714a",
   "metadata": {},
   "outputs": [],
   "source": [
    "#Nous allons reproduire les memes modifications faites sur la dataframe \"train\" sur ce dataframe pour pouvoir le tester.\n",
    "\n",
    "#Age\n",
    "test['Age'] = test['Age'].fillna(test['Age'].median())\n",
    "test['Age']=(test['Age']-test['Age'].mean())/test['Age'].std()\n",
    "\n",
    "#Sex\n",
    "test.loc[test.Sex==\"male\",'Sex']='0'\n",
    "test.loc[test.Sex==\"female\",'Sex']='1'\n",
    "\n",
    "#Embarked\n",
    "test.loc[test.Embarked==\"C\",'Embarked']='1'\n",
    "test.loc[test.Embarked==\"S\",'Embarked']='2'\n",
    "test.loc[test.Embarked.isna(),'Embarked']='2'\n",
    "test.loc[test.Embarked==\"Q\",'Embarked']='3'\n",
    "\n",
    "#Fare\n",
    "test['Fare'] = test['Fare'].fillna(test['Fare'].median())\n",
    "test['Fare']=(test['Fare']-test['Fare'].mean())/test['Fare'].std()\n",
    "\n",
    "#Features moins importants\n",
    "features_drop=['Name','Ticket','Cabin','PassengerId']\n",
    "test=test.drop(features_drop, axis=1)"
   ]
  },
  {
   "cell_type": "code",
   "execution_count": 160,
   "id": "297f7265",
   "metadata": {},
   "outputs": [],
   "source": [
    "#Les variables d'entrées sont toutes les colonnes de la base de donnée, et la variable de sortie est \"Survived\"\n",
    "X=train.drop('Survived', axis=1)\n",
    "y=train[\"Survived\"]"
   ]
  },
  {
   "cell_type": "raw",
   "id": "d7ca071d",
   "metadata": {},
   "source": [
    "Nous allons diviser le dataframe \"train\" en deux: X_train et X_test\n",
    "- X_train contient 70% du \"train\" et servira pour entrainer le modèle\n",
    "- X_test contient 30% du \"train\" et servira pour tester le modèle\n",
    "\n",
    "Le paramètre random_state sert à garantir que c'est la meme division qui se passerait à chaque exécution."
   ]
  },
  {
   "cell_type": "code",
   "execution_count": 161,
   "id": "efbdafcb",
   "metadata": {},
   "outputs": [],
   "source": [
    "X_train, X_test, y_train, y_test = train_test_split(X, y, test_size=0.3, random_state=2)"
   ]
  },
  {
   "cell_type": "code",
   "execution_count": 162,
   "id": "c14b8442",
   "metadata": {},
   "outputs": [],
   "source": [
    "model=RandomForestClassifier(n_estimators=160,max_depth=13)"
   ]
  },
  {
   "cell_type": "code",
   "execution_count": 163,
   "id": "b0e46e4c",
   "metadata": {},
   "outputs": [
    {
     "data": {
      "text/plain": [
       "RandomForestClassifier(max_depth=13, n_estimators=160)"
      ]
     },
     "execution_count": 163,
     "metadata": {},
     "output_type": "execute_result"
    }
   ],
   "source": [
    "model.fit(X_train,y_train)"
   ]
  },
  {
   "cell_type": "code",
   "execution_count": 164,
   "id": "b563f59c",
   "metadata": {},
   "outputs": [],
   "source": [
    "#On prédit sur le dataframe \"test\"\n",
    "submission_preds=model.predict(test)"
   ]
  },
  {
   "cell_type": "code",
   "execution_count": 165,
   "id": "8c014fc1",
   "metadata": {},
   "outputs": [
    {
     "data": {
      "text/html": [
       "<div>\n",
       "<style scoped>\n",
       "    .dataframe tbody tr th:only-of-type {\n",
       "        vertical-align: middle;\n",
       "    }\n",
       "\n",
       "    .dataframe tbody tr th {\n",
       "        vertical-align: top;\n",
       "    }\n",
       "\n",
       "    .dataframe thead th {\n",
       "        text-align: right;\n",
       "    }\n",
       "</style>\n",
       "<table border=\"1\" class=\"dataframe\">\n",
       "  <thead>\n",
       "    <tr style=\"text-align: right;\">\n",
       "      <th></th>\n",
       "      <th>PassengerId</th>\n",
       "      <th>Survived</th>\n",
       "    </tr>\n",
       "  </thead>\n",
       "  <tbody>\n",
       "    <tr>\n",
       "      <th>0</th>\n",
       "      <td>1</td>\n",
       "      <td>0</td>\n",
       "    </tr>\n",
       "    <tr>\n",
       "      <th>1</th>\n",
       "      <td>2</td>\n",
       "      <td>1</td>\n",
       "    </tr>\n",
       "    <tr>\n",
       "      <th>2</th>\n",
       "      <td>3</td>\n",
       "      <td>0</td>\n",
       "    </tr>\n",
       "    <tr>\n",
       "      <th>3</th>\n",
       "      <td>4</td>\n",
       "      <td>1</td>\n",
       "    </tr>\n",
       "  </tbody>\n",
       "</table>\n",
       "</div>"
      ],
      "text/plain": [
       "   PassengerId  Survived\n",
       "0            1         0\n",
       "1            2         1\n",
       "2            3         0\n",
       "3            4         1"
      ]
     },
     "execution_count": 165,
     "metadata": {},
     "output_type": "execute_result"
    }
   ],
   "source": [
    "#Creation du dataframe resultat qui contient uniquement deux colonnes, \"PassengerId\" et \"Survived\"(prédit auaparavant)\n",
    "resultat=pd.DataFrame({\"PassengerId\":test_ids.values,\n",
    "                 \"Survived\":submission_preds,\n",
    "                })\n",
    "#Voici les résultats de survie par la prédiction du Ramdom Forest\n",
    "resultat.head()"
   ]
  },
  {
   "cell_type": "markdown",
   "id": "8dd67ecc",
   "metadata": {},
   "source": [
    "## On peut également générer un fichier test_submission.csv"
   ]
  },
  {
   "cell_type": "code",
   "execution_count": 166,
   "id": "644b3e0e",
   "metadata": {},
   "outputs": [],
   "source": [
    "resultat.to_csv(\"test_submission.csv\", index=False)"
   ]
  },
  {
   "cell_type": "code",
   "execution_count": null,
   "id": "5c63c1b6",
   "metadata": {},
   "outputs": [],
   "source": []
  }
 ],
 "metadata": {
  "kernelspec": {
   "display_name": "Python 3 (ipykernel)",
   "language": "python",
   "name": "python3"
  },
  "language_info": {
   "codemirror_mode": {
    "name": "ipython",
    "version": 3
   },
   "file_extension": ".py",
   "mimetype": "text/x-python",
   "name": "python",
   "nbconvert_exporter": "python",
   "pygments_lexer": "ipython3",
   "version": "3.9.13"
  }
 },
 "nbformat": 4,
 "nbformat_minor": 5
}
