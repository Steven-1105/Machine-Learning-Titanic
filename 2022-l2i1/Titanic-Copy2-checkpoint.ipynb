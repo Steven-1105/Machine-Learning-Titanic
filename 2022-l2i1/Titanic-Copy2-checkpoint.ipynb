{
 "cells": [
  {
   "cell_type": "markdown",
   "id": "c5b1eb2a",
   "metadata": {},
   "source": [
    "## L'analyse des données"
   ]
  },
  {
   "cell_type": "code",
   "execution_count": 6,
   "id": "7fc5606e",
   "metadata": {},
   "outputs": [],
   "source": [
    "import pandas as pd\n",
    "import numpy as np\n",
    "import matplotlib.pyplot as plt\n",
    "%matplotlib inline\n",
    "import seaborn as sns"
   ]
  },
  {
   "cell_type": "code",
   "execution_count": 7,
   "id": "97744058",
   "metadata": {},
   "outputs": [
    {
     "data": {
      "text/html": [
       "<img src=\"https://static1.squarespace.com/static/5006453fe4b09ef2252ba068/5095eabce4b06cb305058603/5095eabce4b02d37bef4c24c/1352002236895/100_anniversary_titanic_sinking_by_esai8mellows-d4xbme8.jpg\"/>"
      ],
      "text/plain": [
       "<IPython.core.display.Image object>"
      ]
     },
     "execution_count": 7,
     "metadata": {},
     "output_type": "execute_result"
    }
   ],
   "source": [
    "from IPython.display import Image\n",
    "Image(url= \"https://static1.squarespace.com/static/5006453fe4b09ef2252ba068/5095eabce4b06cb305058603/5095eabce4b02d37bef4c24c/1352002236895/100_anniversary_titanic_sinking_by_esai8mellows-d4xbme8.jpg\")"
   ]
  },
  {
   "cell_type": "code",
   "execution_count": 8,
   "id": "4ad5c763",
   "metadata": {},
   "outputs": [],
   "source": [
    "#la lecture des données\n",
    "train=pd.read_csv(\"train.csv\")\n",
    "test=pd.read_csv(\"test.csv\")"
   ]
  },
  {
   "cell_type": "code",
   "execution_count": 9,
   "id": "f3c385e4",
   "metadata": {},
   "outputs": [
    {
     "data": {
      "text/html": [
       "<div>\n",
       "<style scoped>\n",
       "    .dataframe tbody tr th:only-of-type {\n",
       "        vertical-align: middle;\n",
       "    }\n",
       "\n",
       "    .dataframe tbody tr th {\n",
       "        vertical-align: top;\n",
       "    }\n",
       "\n",
       "    .dataframe thead th {\n",
       "        text-align: right;\n",
       "    }\n",
       "</style>\n",
       "<table border=\"1\" class=\"dataframe\">\n",
       "  <thead>\n",
       "    <tr style=\"text-align: right;\">\n",
       "      <th></th>\n",
       "      <th>PassengerId</th>\n",
       "      <th>Survived</th>\n",
       "      <th>Pclass</th>\n",
       "      <th>Name</th>\n",
       "      <th>Sex</th>\n",
       "      <th>Age</th>\n",
       "      <th>SibSp</th>\n",
       "      <th>Parch</th>\n",
       "      <th>Ticket</th>\n",
       "      <th>Fare</th>\n",
       "      <th>Cabin</th>\n",
       "      <th>Embarked</th>\n",
       "    </tr>\n",
       "  </thead>\n",
       "  <tbody>\n",
       "    <tr>\n",
       "      <th>0</th>\n",
       "      <td>1</td>\n",
       "      <td>0</td>\n",
       "      <td>3</td>\n",
       "      <td>Braund, Mr. Owen Harris</td>\n",
       "      <td>male</td>\n",
       "      <td>22.0</td>\n",
       "      <td>1</td>\n",
       "      <td>0</td>\n",
       "      <td>A/5 21171</td>\n",
       "      <td>7.2500</td>\n",
       "      <td>NaN</td>\n",
       "      <td>S</td>\n",
       "    </tr>\n",
       "    <tr>\n",
       "      <th>1</th>\n",
       "      <td>2</td>\n",
       "      <td>1</td>\n",
       "      <td>1</td>\n",
       "      <td>Cumings, Mrs. John Bradley (Florence Briggs Th...</td>\n",
       "      <td>female</td>\n",
       "      <td>38.0</td>\n",
       "      <td>1</td>\n",
       "      <td>0</td>\n",
       "      <td>PC 17599</td>\n",
       "      <td>71.2833</td>\n",
       "      <td>C85</td>\n",
       "      <td>C</td>\n",
       "    </tr>\n",
       "    <tr>\n",
       "      <th>2</th>\n",
       "      <td>3</td>\n",
       "      <td>1</td>\n",
       "      <td>3</td>\n",
       "      <td>Heikkinen, Miss. Laina</td>\n",
       "      <td>female</td>\n",
       "      <td>26.0</td>\n",
       "      <td>0</td>\n",
       "      <td>0</td>\n",
       "      <td>STON/O2. 3101282</td>\n",
       "      <td>7.9250</td>\n",
       "      <td>NaN</td>\n",
       "      <td>S</td>\n",
       "    </tr>\n",
       "    <tr>\n",
       "      <th>3</th>\n",
       "      <td>4</td>\n",
       "      <td>1</td>\n",
       "      <td>1</td>\n",
       "      <td>Futrelle, Mrs. Jacques Heath (Lily May Peel)</td>\n",
       "      <td>female</td>\n",
       "      <td>35.0</td>\n",
       "      <td>1</td>\n",
       "      <td>0</td>\n",
       "      <td>113803</td>\n",
       "      <td>53.1000</td>\n",
       "      <td>C123</td>\n",
       "      <td>S</td>\n",
       "    </tr>\n",
       "    <tr>\n",
       "      <th>4</th>\n",
       "      <td>5</td>\n",
       "      <td>0</td>\n",
       "      <td>3</td>\n",
       "      <td>Allen, Mr. William Henry</td>\n",
       "      <td>male</td>\n",
       "      <td>35.0</td>\n",
       "      <td>0</td>\n",
       "      <td>0</td>\n",
       "      <td>373450</td>\n",
       "      <td>8.0500</td>\n",
       "      <td>NaN</td>\n",
       "      <td>S</td>\n",
       "    </tr>\n",
       "  </tbody>\n",
       "</table>\n",
       "</div>"
      ],
      "text/plain": [
       "   PassengerId  Survived  Pclass  \\\n",
       "0            1         0       3   \n",
       "1            2         1       1   \n",
       "2            3         1       3   \n",
       "3            4         1       1   \n",
       "4            5         0       3   \n",
       "\n",
       "                                                Name     Sex   Age  SibSp  \\\n",
       "0                            Braund, Mr. Owen Harris    male  22.0      1   \n",
       "1  Cumings, Mrs. John Bradley (Florence Briggs Th...  female  38.0      1   \n",
       "2                             Heikkinen, Miss. Laina  female  26.0      0   \n",
       "3       Futrelle, Mrs. Jacques Heath (Lily May Peel)  female  35.0      1   \n",
       "4                           Allen, Mr. William Henry    male  35.0      0   \n",
       "\n",
       "   Parch            Ticket     Fare Cabin Embarked  \n",
       "0      0         A/5 21171   7.2500   NaN        S  \n",
       "1      0          PC 17599  71.2833   C85        C  \n",
       "2      0  STON/O2. 3101282   7.9250   NaN        S  \n",
       "3      0            113803  53.1000  C123        S  \n",
       "4      0            373450   8.0500   NaN        S  "
      ]
     },
     "execution_count": 9,
     "metadata": {},
     "output_type": "execute_result"
    }
   ],
   "source": [
    "#l'entete du dataframe train\n",
    "train.head()"
   ]
  },
  {
   "cell_type": "code",
   "execution_count": 10,
   "id": "750a056b",
   "metadata": {},
   "outputs": [
    {
     "data": {
      "text/plain": [
       "(891, 12)"
      ]
     },
     "execution_count": 10,
     "metadata": {},
     "output_type": "execute_result"
    }
   ],
   "source": [
    "#les dimensions du dataset train\n",
    "train.shape"
   ]
  },
  {
   "cell_type": "code",
   "execution_count": 11,
   "id": "dc293bf0",
   "metadata": {},
   "outputs": [
    {
     "name": "stdout",
     "output_type": "stream",
     "text": [
      "<class 'pandas.core.frame.DataFrame'>\n",
      "RangeIndex: 891 entries, 0 to 890\n",
      "Data columns (total 12 columns):\n",
      " #   Column       Non-Null Count  Dtype  \n",
      "---  ------       --------------  -----  \n",
      " 0   PassengerId  891 non-null    int64  \n",
      " 1   Survived     891 non-null    int64  \n",
      " 2   Pclass       891 non-null    int64  \n",
      " 3   Name         891 non-null    object \n",
      " 4   Sex          891 non-null    object \n",
      " 5   Age          714 non-null    float64\n",
      " 6   SibSp        891 non-null    int64  \n",
      " 7   Parch        891 non-null    int64  \n",
      " 8   Ticket       891 non-null    object \n",
      " 9   Fare         891 non-null    float64\n",
      " 10  Cabin        204 non-null    object \n",
      " 11  Embarked     889 non-null    object \n",
      "dtypes: float64(2), int64(5), object(5)\n",
      "memory usage: 83.7+ KB\n"
     ]
    }
   ],
   "source": [
    "#informations sur les colonnes du train comme le nom, le nombre de valeurs non nulles et le type \n",
    "train.info()"
   ]
  },
  {
   "cell_type": "code",
   "execution_count": 12,
   "id": "4f960dae",
   "metadata": {},
   "outputs": [
    {
     "data": {
      "text/plain": [
       "0    549\n",
       "1    342\n",
       "Name: Survived, dtype: int64"
      ]
     },
     "execution_count": 12,
     "metadata": {},
     "output_type": "execute_result"
    }
   ],
   "source": [
    "train['Survived'].value_counts()  "
   ]
  },
  {
   "cell_type": "raw",
   "id": "a093bcda",
   "metadata": {},
   "source": [
    "Il y a eu 549 morts et 342 survivants"
   ]
  },
  {
   "cell_type": "code",
   "execution_count": 13,
   "id": "2ff415f8",
   "metadata": {},
   "outputs": [
    {
     "data": {
      "text/plain": [
       "PassengerId      0\n",
       "Survived         0\n",
       "Pclass           0\n",
       "Name             0\n",
       "Sex              0\n",
       "Age            177\n",
       "SibSp            0\n",
       "Parch            0\n",
       "Ticket           0\n",
       "Fare             0\n",
       "Cabin          687\n",
       "Embarked         2\n",
       "dtype: int64"
      ]
     },
     "execution_count": 13,
     "metadata": {},
     "output_type": "execute_result"
    }
   ],
   "source": [
    "#La somme des valeurs manquantes dans chaque colonne du dataframe train\n",
    "train.isna().sum()"
   ]
  },
  {
   "cell_type": "raw",
   "id": "3071f470",
   "metadata": {},
   "source": [
    "-Il y a 177 valeurs manquantes dans la colonne \"Age\" qui représente 20% des données du dataframe, de plus c'est parmi les colonnes les plus importantes pour la prédiction de la survie ou non d'un passager.\n",
    "-Il manque 687 valeurs dans la colonne \"cabin\" qui équivant à 77% des données ce qui est énorme.\n",
    "-Il n'y a que 2 valeurs manquantes dans la colonne \"Embarked\", on peut simplement les retirer ou les remplir par la valeur la plus fréquente."
   ]
  },
  {
   "cell_type": "code",
   "execution_count": 14,
   "id": "df073d37",
   "metadata": {},
   "outputs": [],
   "source": [
    "#Supression de la colonne 'PassengerId\"\n",
    "del train['PassengerId']"
   ]
  },
  {
   "cell_type": "raw",
   "id": "e52c2a6e",
   "metadata": {},
   "source": [
    "Comme les valeurs de la colonne \"PassengerId\" sont uniques à chaque passager, cela nous rajoute aucune information à l'analyse de cette base de données. "
   ]
  },
  {
   "cell_type": "markdown",
   "id": "114aea78",
   "metadata": {},
   "source": [
    "## Remplissage des valeurs manquantes"
   ]
  },
  {
   "cell_type": "markdown",
   "id": "9f8dd091",
   "metadata": {},
   "source": [
    "## Age"
   ]
  },
  {
   "cell_type": "code",
   "execution_count": 15,
   "id": "7a4cc752",
   "metadata": {},
   "outputs": [
    {
     "data": {
      "text/plain": [
       "count    714.000000\n",
       "mean      29.699118\n",
       "std       14.526497\n",
       "min        0.420000\n",
       "25%       20.125000\n",
       "50%       28.000000\n",
       "75%       38.000000\n",
       "max       80.000000\n",
       "Name: Age, dtype: float64"
      ]
     },
     "execution_count": 15,
     "metadata": {},
     "output_type": "execute_result"
    }
   ],
   "source": [
    "#Quelques statistiques sur la colonne \"Age\"\n",
    "train.Age.describe()"
   ]
  },
  {
   "cell_type": "code",
   "execution_count": 16,
   "id": "18535817",
   "metadata": {},
   "outputs": [],
   "source": [
    "#Remplissage des valeurs manquantes de la colonne age \n",
    "#train['Age'] = train['Age'].fillna(train['Age'].median())\n",
    "#train['Age'] = train.groupby(['Pclass','Sex'])['Age'].apply(lambda x:x.fillna(x.median()))\n",
    "train['Age'] = train['Age'].fillna(train.query('Pclass==1')['Age'].median())\n",
    "train['Age'] = train['Age'].fillna(train.query('Pclass==2')['Age'].median())\n",
    "train['Age'] = train['Age'].fillna(train.query('Pclass==3')['Age'].median())"
   ]
  },
  {
   "cell_type": "raw",
   "id": "b36c169e",
   "metadata": {},
   "source": [
    "-Comme la médiane est calculée en énumérant tous les nombres dans un certain ordre, puis le nombre au centre de la distribution, et la moyenne est le résultat de la division de la somme des valeurs par leur nombre total, il est plus logique d'utiliser la médiane dans notre cas car la moyenne est influencée par les valeurs extrêmes, dans ce cas la moyenne n'est pas vraiment significative. On conclut que la médiane est une meilleure mesure de la tendance centrale lorsque les distributions sont asymétriques.\n",
    "\n",
    "-Au départ, pour compléter les vides de la colonne \"Age\", nous avons opté pour la médiane de toutes la colonne \"Age\" qui est de 29 ans, cela générait un score de 0.79. Nous avons aussi essayé de remplir les vides par la médiane par classe sociale et sexe des passagers, et ça entrainait un score 0.77. Par la suite, nous avons conclu que l'age par classe sociale est la meilleure soluion qui génère un score de 0.8."
   ]
  },
  {
   "cell_type": "markdown",
   "id": "cacb2af7",
   "metadata": {},
   "source": [
    "## Embarked"
   ]
  },
  {
   "cell_type": "code",
   "execution_count": 17,
   "id": "b2005e75",
   "metadata": {},
   "outputs": [
    {
     "data": {
      "text/plain": [
       "count     889\n",
       "unique      3\n",
       "top         S\n",
       "freq      644\n",
       "Name: Embarked, dtype: object"
      ]
     },
     "execution_count": 17,
     "metadata": {},
     "output_type": "execute_result"
    }
   ],
   "source": [
    "#Description statistique des valeurs de la colonne \"Embarked\"\n",
    "train.Embarked.describe() "
   ]
  },
  {
   "cell_type": "raw",
   "id": "757bbe40",
   "metadata": {},
   "source": [
    "La valeur la plus fréquente dans la colonne \"Embarked \" est \"S\"."
   ]
  },
  {
   "cell_type": "code",
   "execution_count": 18,
   "id": "32b8ab07",
   "metadata": {},
   "outputs": [],
   "source": [
    "train.loc[train.Embarked.isna(),'Embarked']='S'"
   ]
  },
  {
   "cell_type": "raw",
   "id": "6c870f78",
   "metadata": {},
   "source": [
    "Il y a 2 valeurs manquantes dans cette colonne, nous les avons complétées par la valeur la plus fréquente dans\n",
    "la base de données et qui s'agit de \"S\"."
   ]
  },
  {
   "cell_type": "markdown",
   "id": "14e20c14",
   "metadata": {},
   "source": [
    "## Cabin"
   ]
  },
  {
   "cell_type": "code",
   "execution_count": 19,
   "id": "7d846ea5",
   "metadata": {},
   "outputs": [],
   "source": [
    "train.loc[train.Cabin.isna(),'Cabin']='nul'"
   ]
  },
  {
   "cell_type": "raw",
   "id": "036ca9b6",
   "metadata": {},
   "source": [
    "Comme nous l'avons constaté auparavant, il y a beaucoup de valeurs manquantes dans la colonne \"Cabin\", mais nous devons l'utiliser car elle peut être un feature important. Pour cela nous avons mis \"nul\" dans les cases manquantes car on ne pourrait pas porter de jugement vu le nombre de valeurs manquantes."
   ]
  },
  {
   "cell_type": "markdown",
   "id": "fe2b0685",
   "metadata": {},
   "source": [
    "## Mappage des données\n"
   ]
  },
  {
   "cell_type": "raw",
   "id": "57eee014",
   "metadata": {},
   "source": [
    "Le mappage consiste, dans ce cas, à transformer les données c'est-à-dire les convertir d’un format à un autre par la modification des types de données, la suppression des données invalides ou l'enrichissement des données.\n",
    "Le but de cette démarche est de faciler l'exploitatuon de ces données, les gérer efficacement et effectuer des recherches plus rapides."
   ]
  },
  {
   "cell_type": "markdown",
   "id": "9f8ebece",
   "metadata": {},
   "source": [
    "## Sex"
   ]
  },
  {
   "cell_type": "code",
   "execution_count": 20,
   "id": "b4aa3fa4",
   "metadata": {},
   "outputs": [],
   "source": [
    "#Mapagge des données de la colonne Sex\n",
    "train.loc[train.Sex==\"male\",'Sex']='0'\n",
    "train.loc[train.Sex==\"female\",'Sex']='1'"
   ]
  },
  {
   "cell_type": "raw",
   "id": "7c33b97e",
   "metadata": {},
   "source": [
    "Nous avons mappé les valeurs de la colonne \"Sex\" tel que 0 représente le sexe masculin et 1 le sexe féminin."
   ]
  },
  {
   "cell_type": "markdown",
   "id": "25ed8f58",
   "metadata": {},
   "source": [
    "## Embarked"
   ]
  },
  {
   "cell_type": "code",
   "execution_count": 21,
   "id": "3963d6ce",
   "metadata": {},
   "outputs": [],
   "source": [
    "#Mapagge des données de la colonne Embarked\n",
    "train.loc[train.Embarked==\"C\",'Embarked']='1'\n",
    "train.loc[train.Embarked==\"S\",'Embarked']='2'\n",
    "train.loc[train.Embarked==\"Q\",'Embarked']='3'"
   ]
  },
  {
   "cell_type": "raw",
   "id": "12c0be2b",
   "metadata": {},
   "source": [
    "Nous avons mappé les valeurs de la colonne \"Embarked\" tel que:\n",
    "1 represente la valeur \"C\"\n",
    "2 represente la valeur \"S\"\n",
    "3 represente la valeur \"Q\""
   ]
  },
  {
   "cell_type": "markdown",
   "id": "9be78676",
   "metadata": {},
   "source": [
    "## Cabin"
   ]
  },
  {
   "cell_type": "code",
   "execution_count": 22,
   "id": "5618ee80",
   "metadata": {},
   "outputs": [],
   "source": [
    "#Mappage des données de la colonne Cabin\n",
    "train['Cabin']=train['Cabin'].apply(lambda s: s[0] if pd.notnull(s) else 'nul')"
   ]
  },
  {
   "cell_type": "code",
   "execution_count": 23,
   "id": "3df8d68a",
   "metadata": {},
   "outputs": [
    {
     "data": {
      "text/html": [
       "<img src=\"https://miro.medium.com/v2/resize:fit:1400/format:webp/0*krPK8PbfZ_SnvYTg.png\"/>"
      ],
      "text/plain": [
       "<IPython.core.display.Image object>"
      ]
     },
     "execution_count": 23,
     "metadata": {},
     "output_type": "execute_result"
    }
   ],
   "source": [
    "from IPython.display import Image\n",
    "Image(url=\"https://miro.medium.com/v2/resize:fit:1400/format:webp/0*krPK8PbfZ_SnvYTg.png\")"
   ]
  },
  {
   "cell_type": "raw",
   "id": "4f317387",
   "metadata": {},
   "source": [
    "l'image au dessus nous montre que les passagers de la classe 1 avaient les cabines sur le pont A, B ou encore C, et ceux de la classe 3 étaient principalement sur F ou G. Nous avons alors garder que la première valeur (A-F)."
   ]
  },
  {
   "cell_type": "code",
   "execution_count": 24,
   "id": "53472363",
   "metadata": {},
   "outputs": [],
   "source": [
    "train.loc[train.Cabin==\"A\",'Cabin']='1'\n",
    "train.loc[train.Cabin==\"B\",'Cabin']='2'\n",
    "train.loc[train.Cabin==\"C\",'Cabin']='3'\n",
    "train.loc[train.Cabin==\"D\",'Cabin']='4'\n",
    "train.loc[train.Cabin==\"E\",'Cabin']='5'\n",
    "train.loc[train.Cabin==\"F\",'Cabin']='6'\n",
    "train.loc[train.Cabin==\"G\",'Cabin']='7'\n",
    "train.loc[train.Cabin==\"T\",'Cabin']='8'\n",
    "train.loc[train.Cabin==\"nul\",'Cabin']='9'"
   ]
  },
  {
   "cell_type": "raw",
   "id": "bd4c551d",
   "metadata": {},
   "source": [
    "Par là, nous avons remplacé les valeurs de la colonne \"Cabin\" qui étaient de A jusqu'à T avec les chiffres de 1 à 8 et les valeurs nulles portent désormais le numéro 9."
   ]
  },
  {
   "cell_type": "markdown",
   "id": "e0882212",
   "metadata": {},
   "source": [
    "## Nouvelles variables\n"
   ]
  },
  {
   "cell_type": "raw",
   "id": "2a245a86",
   "metadata": {},
   "source": [
    "Nous avons ajouter deux nouvelles variables à la base de données que nous calculons à partir d'autres features."
   ]
  },
  {
   "cell_type": "markdown",
   "id": "2499c445",
   "metadata": {},
   "source": [
    "## Civility"
   ]
  },
  {
   "cell_type": "code",
   "execution_count": 25,
   "id": "c84ee715",
   "metadata": {},
   "outputs": [],
   "source": [
    "train['Civility']=train['Name'].str.split(', ', expand=True)[1].str.split('.', expand=True)[0]"
   ]
  },
  {
   "cell_type": "code",
   "execution_count": 26,
   "id": "eb7408ef",
   "metadata": {},
   "outputs": [
    {
     "data": {
      "text/html": [
       "<div>\n",
       "<style scoped>\n",
       "    .dataframe tbody tr th:only-of-type {\n",
       "        vertical-align: middle;\n",
       "    }\n",
       "\n",
       "    .dataframe tbody tr th {\n",
       "        vertical-align: top;\n",
       "    }\n",
       "\n",
       "    .dataframe thead th {\n",
       "        text-align: right;\n",
       "    }\n",
       "</style>\n",
       "<table border=\"1\" class=\"dataframe\">\n",
       "  <thead>\n",
       "    <tr style=\"text-align: right;\">\n",
       "      <th></th>\n",
       "      <th>Survived</th>\n",
       "    </tr>\n",
       "    <tr>\n",
       "      <th>Civility</th>\n",
       "      <th></th>\n",
       "    </tr>\n",
       "  </thead>\n",
       "  <tbody>\n",
       "    <tr>\n",
       "      <th>Capt</th>\n",
       "      <td>1</td>\n",
       "    </tr>\n",
       "    <tr>\n",
       "      <th>Col</th>\n",
       "      <td>2</td>\n",
       "    </tr>\n",
       "    <tr>\n",
       "      <th>Don</th>\n",
       "      <td>1</td>\n",
       "    </tr>\n",
       "    <tr>\n",
       "      <th>Dr</th>\n",
       "      <td>7</td>\n",
       "    </tr>\n",
       "    <tr>\n",
       "      <th>Jonkheer</th>\n",
       "      <td>1</td>\n",
       "    </tr>\n",
       "    <tr>\n",
       "      <th>Lady</th>\n",
       "      <td>1</td>\n",
       "    </tr>\n",
       "    <tr>\n",
       "      <th>Major</th>\n",
       "      <td>2</td>\n",
       "    </tr>\n",
       "    <tr>\n",
       "      <th>Master</th>\n",
       "      <td>40</td>\n",
       "    </tr>\n",
       "    <tr>\n",
       "      <th>Miss</th>\n",
       "      <td>182</td>\n",
       "    </tr>\n",
       "    <tr>\n",
       "      <th>Mlle</th>\n",
       "      <td>2</td>\n",
       "    </tr>\n",
       "    <tr>\n",
       "      <th>Mme</th>\n",
       "      <td>1</td>\n",
       "    </tr>\n",
       "    <tr>\n",
       "      <th>Mr</th>\n",
       "      <td>517</td>\n",
       "    </tr>\n",
       "    <tr>\n",
       "      <th>Mrs</th>\n",
       "      <td>125</td>\n",
       "    </tr>\n",
       "    <tr>\n",
       "      <th>Ms</th>\n",
       "      <td>1</td>\n",
       "    </tr>\n",
       "    <tr>\n",
       "      <th>Rev</th>\n",
       "      <td>6</td>\n",
       "    </tr>\n",
       "    <tr>\n",
       "      <th>Sir</th>\n",
       "      <td>1</td>\n",
       "    </tr>\n",
       "    <tr>\n",
       "      <th>the Countess</th>\n",
       "      <td>1</td>\n",
       "    </tr>\n",
       "  </tbody>\n",
       "</table>\n",
       "</div>"
      ],
      "text/plain": [
       "              Survived\n",
       "Civility              \n",
       "Capt                 1\n",
       "Col                  2\n",
       "Don                  1\n",
       "Dr                   7\n",
       "Jonkheer             1\n",
       "Lady                 1\n",
       "Major                2\n",
       "Master              40\n",
       "Miss               182\n",
       "Mlle                 2\n",
       "Mme                  1\n",
       "Mr                 517\n",
       "Mrs                125\n",
       "Ms                   1\n",
       "Rev                  6\n",
       "Sir                  1\n",
       "the Countess         1"
      ]
     },
     "execution_count": 26,
     "metadata": {},
     "output_type": "execute_result"
    }
   ],
   "source": [
    "train[['Civility','Survived']].groupby('Civility').count()"
   ]
  },
  {
   "cell_type": "raw",
   "id": "ff2e2ee7",
   "metadata": {},
   "source": [
    "On remarque qu'il a plusieurs civilités, les plus fréquentes sont \"Mr\", \"Miss\" et \"Mrs\". De plus, il y a plusieurs autres civilités qui ne sont pas très répandues comme \"Ms\" et \"Sir\". \n",
    "Nous allons considérer que celles qui ont plus de 20 valeurs"
   ]
  },
  {
   "cell_type": "code",
   "execution_count": 27,
   "id": "6f8ce589",
   "metadata": {},
   "outputs": [
    {
     "data": {
      "text/plain": [
       "Civility\n",
       "Master     40\n",
       "Miss      184\n",
       "Mr        518\n",
       "Mrs       126\n",
       "nul        23\n",
       "Name: Civility, dtype: int64"
      ]
     },
     "execution_count": 27,
     "metadata": {},
     "output_type": "execute_result"
    }
   ],
   "source": [
    "train.loc[train.Civility=='Mme','Civility']='Mrs'\n",
    "train.loc[train.Civility==\"Mlle\",'Civility']='Miss'\n",
    "train.loc[train.Civility==\"Sir\",'Civility']='Mr'\n",
    "CivilityValues=(train['Civility'].value_counts()<20)\n",
    "train['Civility']=train['Civility'].apply(lambda x: 'nul' if CivilityValues.loc[x]==True else x)\n",
    "train.groupby('Civility')['Civility'].count()"
   ]
  },
  {
   "cell_type": "markdown",
   "id": "75b3b128",
   "metadata": {},
   "source": [
    "## TicketFrequency"
   ]
  },
  {
   "cell_type": "code",
   "execution_count": 28,
   "id": "07ace459",
   "metadata": {},
   "outputs": [],
   "source": [
    "train['TicketFrequency']=train.groupby('Ticket')['Ticket'].transform('count')"
   ]
  },
  {
   "cell_type": "code",
   "execution_count": 29,
   "id": "d2eb6422",
   "metadata": {},
   "outputs": [
    {
     "data": {
      "text/html": [
       "<div>\n",
       "<style scoped>\n",
       "    .dataframe tbody tr th:only-of-type {\n",
       "        vertical-align: middle;\n",
       "    }\n",
       "\n",
       "    .dataframe tbody tr th {\n",
       "        vertical-align: top;\n",
       "    }\n",
       "\n",
       "    .dataframe thead th {\n",
       "        text-align: right;\n",
       "    }\n",
       "</style>\n",
       "<table border=\"1\" class=\"dataframe\">\n",
       "  <thead>\n",
       "    <tr style=\"text-align: right;\">\n",
       "      <th></th>\n",
       "      <th>Survived</th>\n",
       "    </tr>\n",
       "    <tr>\n",
       "      <th>TicketFrequency</th>\n",
       "      <th></th>\n",
       "    </tr>\n",
       "  </thead>\n",
       "  <tbody>\n",
       "    <tr>\n",
       "      <th>1</th>\n",
       "      <td>0.297989</td>\n",
       "    </tr>\n",
       "    <tr>\n",
       "      <th>2</th>\n",
       "      <td>0.574468</td>\n",
       "    </tr>\n",
       "    <tr>\n",
       "      <th>3</th>\n",
       "      <td>0.698413</td>\n",
       "    </tr>\n",
       "    <tr>\n",
       "      <th>4</th>\n",
       "      <td>0.500000</td>\n",
       "    </tr>\n",
       "    <tr>\n",
       "      <th>5</th>\n",
       "      <td>0.000000</td>\n",
       "    </tr>\n",
       "    <tr>\n",
       "      <th>6</th>\n",
       "      <td>0.000000</td>\n",
       "    </tr>\n",
       "    <tr>\n",
       "      <th>7</th>\n",
       "      <td>0.238095</td>\n",
       "    </tr>\n",
       "  </tbody>\n",
       "</table>\n",
       "</div>"
      ],
      "text/plain": [
       "                 Survived\n",
       "TicketFrequency          \n",
       "1                0.297989\n",
       "2                0.574468\n",
       "3                0.698413\n",
       "4                0.500000\n",
       "5                0.000000\n",
       "6                0.000000\n",
       "7                0.238095"
      ]
     },
     "execution_count": 29,
     "metadata": {},
     "output_type": "execute_result"
    }
   ],
   "source": [
    "train[['TicketFrequency','Survived']].groupby('TicketFrequency').mean()"
   ]
  },
  {
   "cell_type": "markdown",
   "id": "c3a39bec",
   "metadata": {},
   "source": [
    "## Family & Alone\n"
   ]
  },
  {
   "cell_type": "code",
   "execution_count": 30,
   "id": "0dcec1c7",
   "metadata": {},
   "outputs": [],
   "source": [
    "train = train.copy(deep=True)\n",
    "train['Family'] = 0\n",
    "train['Family'] = train['Parch'] + train['SibSp']\n",
    "train['Alone'] = 0\n",
    "train.loc[train['Family']==0, 'Alone'] = 1"
   ]
  },
  {
   "cell_type": "markdown",
   "id": "ea2d1fc7",
   "metadata": {},
   "source": [
    "## L'exploration des données\n"
   ]
  },
  {
   "cell_type": "code",
   "execution_count": 31,
   "id": "947daa25",
   "metadata": {},
   "outputs": [
    {
     "name": "stderr",
     "output_type": "stream",
     "text": [
      "C:\\ProgramData\\Anaconda3\\lib\\site-packages\\seaborn\\_decorators.py:36: FutureWarning: Pass the following variable as a keyword arg: x. From version 0.12, the only valid positional argument will be `data`, and passing other arguments without an explicit keyword will result in an error or misinterpretation.\n",
      "  warnings.warn(\n"
     ]
    },
    {
     "data": {
      "text/plain": [
       "<AxesSubplot:xlabel='Sex', ylabel='count'>"
      ]
     },
     "execution_count": 31,
     "metadata": {},
     "output_type": "execute_result"
    },
    {
     "data": {
      "image/png": "[encoded data removed]",
      "text/plain": [
       "<Figure size 640x480 with 1 Axes>"
      ]
     },
     "metadata": {},
     "output_type": "display_data"
    }
   ],
   "source": [
    "sns.countplot('Sex', hue='Survived', data=train)"
   ]
  },
  {
   "cell_type": "raw",
   "id": "85dba478",
   "metadata": {},
   "source": [
    "Nous remarquons par cet histograme, qu'environ 100 personnes du sexe masculin ont survécu contre plus de 450 morts; et qu'une centaine du sexe féminin sont décédés contre environ 250 qui ont survécu. \n",
    "Alors plus que 2/3 des survivants sont du sexe féminin."
   ]
  },
  {
   "cell_type": "code",
   "execution_count": 32,
   "id": "139e7c4c",
   "metadata": {},
   "outputs": [
    {
     "name": "stderr",
     "output_type": "stream",
     "text": [
      "C:\\ProgramData\\Anaconda3\\lib\\site-packages\\seaborn\\_decorators.py:36: FutureWarning: Pass the following variable as a keyword arg: x. From version 0.12, the only valid positional argument will be `data`, and passing other arguments without an explicit keyword will result in an error or misinterpretation.\n",
      "  warnings.warn(\n"
     ]
    },
    {
     "data": {
      "text/plain": [
       "<AxesSubplot:xlabel='Embarked', ylabel='count'>"
      ]
     },
     "execution_count": 32,
     "metadata": {},
     "output_type": "execute_result"
    },
    {
     "data": {
      "image/png": "[encoded data removed]",
      "text/plain": [
       "<Figure size 640x480 with 1 Axes>"
      ]
     },
     "metadata": {},
     "output_type": "display_data"
    }
   ],
   "source": [
    "sns.countplot('Embarked', hue='Survived', data=train)"
   ]
  },
  {
   "cell_type": "raw",
   "id": "c4897aef",
   "metadata": {},
   "source": [
    "Par cet histogramme, nous réalisons que:\n",
    "-Pour ceux qui ont embarqué depuis le port de Cherbourg, il y a eu plus de survivant que de morts (environ 75 morts et 90 survivants)\n",
    "-Pour ceux qui ont embarqué depuis le port de Southampton le  il y a plus de morts que de survivants (plus de 400 morts et environ 230 survivants)\n",
    "-Pour ceux qui ont embarqué depuis le port de Queenstown il y a plus de morts que de survivants (environ 50 morts et 40 survivants)\n",
    "Alors ce sont les personnes qui ont embarqué depuis le port de Cherbourg qui ont le plus survécu. Et le pourcentage de décès est plus élévé pour ceux qui ont embarqué depuis le port de Southampton."
   ]
  },
  {
   "cell_type": "code",
   "execution_count": 33,
   "id": "25d7cbb9",
   "metadata": {},
   "outputs": [
    {
     "name": "stderr",
     "output_type": "stream",
     "text": [
      "C:\\ProgramData\\Anaconda3\\lib\\site-packages\\seaborn\\_decorators.py:36: FutureWarning: Pass the following variable as a keyword arg: x. From version 0.12, the only valid positional argument will be `data`, and passing other arguments without an explicit keyword will result in an error or misinterpretation.\n",
      "  warnings.warn(\n"
     ]
    },
    {
     "data": {
      "text/plain": [
       "<AxesSubplot:xlabel='Pclass', ylabel='count'>"
      ]
     },
     "execution_count": 33,
     "metadata": {},
     "output_type": "execute_result"
    },
    {
     "data": {
      "image/png": "[encoded data removed]",
      "text/plain": [
       "<Figure size 640x480 with 1 Axes>"
      ]
     },
     "metadata": {},
     "output_type": "display_data"
    }
   ],
   "source": [
    "sns.countplot('Pclass', hue='Survived', data=train)"
   ]
  },
  {
   "cell_type": "raw",
   "id": "e47f1e32",
   "metadata": {},
   "source": [
    "Par cet histogramme, nous remarquons: \n",
    "-Pour la 1ère classe sociale, il y a eu plus de survivants que de morts (environ 140 survivants et 80 morts)\n",
    "-Pour la 2ème classe sociale, il y a eu plus de morts que de survivants (environ 85 survivants et 100 morts)\n",
    "-Pour la 3ème classe sociale, il y a eu plus de morts que de survivants (environ 120 survivants et plus de 370 morts)\n",
    "Alors ce sont les personnes de la première classe qui ont le plus suvécu. Et le pourcentage de décès est plus élévé dans la 3ème classe."
   ]
  },
  {
   "cell_type": "code",
   "execution_count": 34,
   "id": "58b34d29",
   "metadata": {},
   "outputs": [
    {
     "data": {
      "text/plain": [
       "<AxesSubplot:ylabel='Frequency'>"
      ]
     },
     "execution_count": 34,
     "metadata": {},
     "output_type": "execute_result"
    },
    {
     "data": {
      "image/png": "[encoded data removed]",
      "text/plain": [
       "<Figure size 640x480 with 1 Axes>"
      ]
     },
     "metadata": {},
     "output_type": "display_data"
    }
   ],
   "source": [
    "train['Fare'].plot.hist()"
   ]
  },
  {
   "cell_type": "raw",
   "id": "27c3711b",
   "metadata": {},
   "source": [
    "Nous remarquons que:\n",
    "-Plus de 700 passagers ont pris des billets à 50\n",
    "-Il y a quelques billets qui ont couté 500"
   ]
  },
  {
   "cell_type": "code",
   "execution_count": 35,
   "id": "e6944947",
   "metadata": {},
   "outputs": [
    {
     "name": "stderr",
     "output_type": "stream",
     "text": [
      "C:\\ProgramData\\Anaconda3\\lib\\site-packages\\seaborn\\_decorators.py:36: FutureWarning: Pass the following variable as a keyword arg: x. From version 0.12, the only valid positional argument will be `data`, and passing other arguments without an explicit keyword will result in an error or misinterpretation.\n",
      "  warnings.warn(\n"
     ]
    },
    {
     "data": {
      "text/plain": [
       "<AxesSubplot:xlabel='SibSp', ylabel='count'>"
      ]
     },
     "execution_count": 35,
     "metadata": {},
     "output_type": "execute_result"
    },
    {
     "data": {
      "image/png": "[encoded data removed]",
      "text/plain": [
       "<Figure size 640x480 with 1 Axes>"
      ]
     },
     "metadata": {},
     "output_type": "display_data"
    }
   ],
   "source": [
    "sns.countplot('SibSp', hue='Survived', data=train)"
   ]
  },
  {
   "cell_type": "raw",
   "id": "7e72ee62",
   "metadata": {},
   "source": [
    "Nous pouvons voir par cet histogramme qu'il y a des passagers qui ont jusqu'à 8 frères/soeurs à bord du bateau."
   ]
  },
  {
   "cell_type": "code",
   "execution_count": 36,
   "id": "0beca6ae",
   "metadata": {},
   "outputs": [
    {
     "name": "stderr",
     "output_type": "stream",
     "text": [
      "C:\\ProgramData\\Anaconda3\\lib\\site-packages\\seaborn\\_decorators.py:36: FutureWarning: Pass the following variable as a keyword arg: x. From version 0.12, the only valid positional argument will be `data`, and passing other arguments without an explicit keyword will result in an error or misinterpretation.\n",
      "  warnings.warn(\n"
     ]
    },
    {
     "data": {
      "text/plain": [
       "<AxesSubplot:xlabel='Alone', ylabel='count'>"
      ]
     },
     "execution_count": 36,
     "metadata": {},
     "output_type": "execute_result"
    },
    {
     "data": {
      "image/png": "[encoded data removed]",
      "text/plain": [
       "<Figure size 640x480 with 1 Axes>"
      ]
     },
     "metadata": {},
     "output_type": "display_data"
    }
   ],
   "source": [
    "sns.countplot('Alone', hue='Survived', data=train)"
   ]
  },
  {
   "cell_type": "raw",
   "id": "5d6ea4ec",
   "metadata": {},
   "source": [
    "Cet histogramme nous montre que:\n",
    "-Pour les passagers qui étaient seuls à bord, il y a eu un peu près le meme nombre de morts et de survivants(environ 175)\n",
    "-Pour les passagers qui étaient accompagnés à bord, il y a eu plus de morts que de survivants(environ 170 survivants et plus de 360 morts)\n",
    "Nous pouvons dire alors que le taux de survie est plus grand pour ceux qui étaient seuls."
   ]
  },
  {
   "cell_type": "code",
   "execution_count": 37,
   "id": "b032e2cc",
   "metadata": {},
   "outputs": [
    {
     "data": {
      "text/plain": [
       "<AxesSubplot:xlabel='Cabin'>"
      ]
     },
     "execution_count": 37,
     "metadata": {},
     "output_type": "execute_result"
    },
    {
     "data": {
      "image/png": "[encoded data removed]",
      "text/plain": [
       "<Figure size 1500x700 with 1 Axes>"
      ]
     },
     "metadata": {},
     "output_type": "display_data"
    }
   ],
   "source": [
    "train[['Cabin','Survived']].groupby('Cabin')['Survived'].mean().plot(kind='bar', figsize=(15,7))"
   ]
  },
  {
   "cell_type": "raw",
   "id": "fbf18eb4",
   "metadata": {},
   "source": [
    "Par là, nous réalisons que:\n",
    "-La moyenne des passagers vivants dans les cabines B,D et E est supérieure à 0.7\n",
    "-La moyenne des passagers vivants dont la valeur de \"Cabin\" est manquante est de 0.3"
   ]
  },
  {
   "cell_type": "markdown",
   "id": "c4ba5100",
   "metadata": {},
   "source": [
    "## Standardisation des données"
   ]
  },
  {
   "cell_type": "raw",
   "id": "83bf8984",
   "metadata": {},
   "source": [
    "La standardisation des caractéristiques autour du centre avec un écart type de 1 est importante car nous comparons des mesures qui ont des unités différentes (age, monnaie, nombre de famille,...). Les variables mesurées à différentes échelles contribuent de manière différente à l’analyse, car la variable qui prend de grandes valeurs l'emportera sur celle qui prend de petites valeurs, ce qui peut générer de fausses informations sur la corrélation des features."
   ]
  },
  {
   "cell_type": "code",
   "execution_count": 38,
   "id": "98ea63a2",
   "metadata": {},
   "outputs": [],
   "source": [
    "train['Fare']=(train['Fare']-train['Fare'].mean())/train['Fare'].std()\n",
    "train['Age']=(train['Age']-train['Age'].mean())/train['Age'].std()"
   ]
  },
  {
   "cell_type": "code",
   "execution_count": 39,
   "id": "e1e9d80e",
   "metadata": {},
   "outputs": [
    {
     "data": {
      "text/plain": [
       "Text(0.5, 1.0, 'Matrice de corrélation ')"
      ]
     },
     "execution_count": 39,
     "metadata": {},
     "output_type": "execute_result"
    },
    {
     "data": {
      "image/png": "[encoded data removed]",
      "text/plain": [
       "<Figure size 640x480 with 2 Axes>"
      ]
     },
     "metadata": {},
     "output_type": "display_data"
    }
   ],
   "source": [
    "sns.heatmap(train.corr(),annot=True).set_title('Matrice de corrélation ')"
   ]
  },
  {
   "cell_type": "raw",
   "id": "edbfa5e0",
   "metadata": {},
   "source": [
    "Nous pouvons voir qu'il n'y a pas vraiment de corrélation entre les features.\n",
    "Il y a les colonnes \"Pclass\" et \"Alone\" qui ont une légère corrélation négative avec la colonne \"Survived\" et il y a aussi la colonne \"Fare\" qui corrèle positivement avec \"Survived\"."
   ]
  },
  {
   "cell_type": "markdown",
   "id": "b6c7d953",
   "metadata": {},
   "source": [
    "## Supression des features moins importants"
   ]
  },
  {
   "cell_type": "raw",
   "id": "7c5a714e",
   "metadata": {},
   "source": [
    "Après avoir essayé plusieurs fois les algorithmes sur les différents features, nous avons conclu qu'il faut supprimer les features suivants:"
   ]
  },
  {
   "cell_type": "code",
   "execution_count": 40,
   "id": "a2698b2a",
   "metadata": {},
   "outputs": [],
   "source": [
    "features_drop=['Name','Civility','Ticket','Cabin','TicketFrequency','Family','Alone']\n",
    "train=train.drop(features_drop, axis=1)"
   ]
  },
  {
   "cell_type": "markdown",
   "id": "43062786",
   "metadata": {},
   "source": [
    "## Les algorithmes de prédiction\n"
   ]
  },
  {
   "cell_type": "code",
   "execution_count": 41,
   "id": "9f7f16ee",
   "metadata": {},
   "outputs": [],
   "source": [
    "#Importation des bibliothèques des différents algorithmes que nous allons utiliser\n",
    "from sklearn.neighbors import KNeighborsClassifier\n",
    "from sklearn.tree import DecisionTreeClassifier\n",
    "from sklearn.ensemble import RandomForestClassifier\n",
    "from sklearn.naive_bayes import GaussianNB\n",
    "from sklearn.svm import LinearSVC\n",
    "from sklearn.linear_model import LogisticRegression\n",
    "from sklearn.ensemble import AdaBoostClassifier\n",
    "from sklearn.model_selection import train_test_split\n",
    "from sklearn.metrics import accuracy_score\n",
    "from sklearn.metrics import confusion_matrix"
   ]
  },
  {
   "cell_type": "code",
   "execution_count": 42,
   "id": "0857de48",
   "metadata": {},
   "outputs": [],
   "source": [
    "#la lecture des données du dataframe test\n",
    "test = pd.read_csv('test.csv')\n",
    "test_ids=test['PassengerId']"
   ]
  },
  {
   "cell_type": "raw",
   "id": "ff6382e9",
   "metadata": {},
   "source": [
    "Nous allons reproduire les memes modifications faites sur la dataframe \"train\" sur ce dataframe pour pouvoir le tester."
   ]
  },
  {
   "cell_type": "code",
   "execution_count": 43,
   "id": "233a714a",
   "metadata": {},
   "outputs": [],
   "source": [
    "#Age\n",
    "#test['Age'] = test['Age'].fillna(test.query('Pclass==1')['Age'].median())\n",
    "#test['Age'] = test['Age'].fillna(test.query('Pclass==2')['Age'].median())\n",
    "#test['Age'] = test['Age'].fillna(test.query('Pclass==3')['Age'].median())\n",
    "test['Age'] = test['Age'].fillna(test['Age'].median())\n",
    "test['Age']=(test['Age']-test['Age'].mean())/test['Age'].std()\n",
    "\n",
    "\n",
    "#Sex\n",
    "test.loc[test.Sex==\"male\",'Sex']='0'\n",
    "test.loc[test.Sex==\"female\",'Sex']='1'\n",
    "\n",
    "#Embarked\n",
    "test.loc[test.Embarked==\"C\",'Embarked']='1'\n",
    "test.loc[test.Embarked==\"S\",'Embarked']='2'\n",
    "test.loc[test.Embarked.isna(),'Embarked']='2'\n",
    "test.loc[test.Embarked==\"Q\",'Embarked']='3'\n",
    "\n",
    "#Fare\n",
    "test['Fare'] = test['Fare'].fillna(test['Fare'].median())\n",
    "test['Fare']=(test['Fare']-test['Fare'].mean())/test['Fare'].std()\n",
    "\n",
    "#Features moins importants\n",
    "features_drop=['Name','Ticket','Cabin','PassengerId']\n",
    "test=test.drop(features_drop, axis=1)"
   ]
  },
  {
   "cell_type": "code",
   "execution_count": 44,
   "id": "297f7265",
   "metadata": {},
   "outputs": [],
   "source": [
    "#Les variables d'entrées sont toutes les colonnes de la base de donnée, et la variable de sortie est \"Survived\"\n",
    "X=train.drop('Survived', axis=1)\n",
    "y=train[\"Survived\"]"
   ]
  },
  {
   "cell_type": "raw",
   "id": "d7ca071d",
   "metadata": {},
   "source": [
    "Nous allons diviser le dataframe \"train\" en deux: X_train et X_test\n",
    "- X_train contient 70% du \"train\" et servira pour entrainer le modèle\n",
    "- X_test contient 30% du \"train\" et servira pour tester le modèle\n",
    "\n",
    "Le paramètre random_state sert à garantir que c'est la meme division qui se passerait à chaque exécution."
   ]
  },
  {
   "cell_type": "code",
   "execution_count": 45,
   "id": "efbdafcb",
   "metadata": {},
   "outputs": [],
   "source": [
    "X_train, X_test, y_train, y_test = train_test_split(X, y, test_size=0.3, random_state=2)"
   ]
  },
  {
   "cell_type": "markdown",
   "id": "89506fa0",
   "metadata": {},
   "source": [
    "## KNeighborsClassifier"
   ]
  },
  {
   "cell_type": "raw",
   "id": "ba9f85df",
   "metadata": {},
   "source": [
    "L'algorithme des k plus proches voisins est un algorithme simple et facile , c'est un discriminant d'apprentissage supervisé qui utilise la proximité pour effectuer des classifications ou des prédictions sur le regroupement d'un point de données individuel. "
   ]
  },
  {
   "cell_type": "code",
   "execution_count": 46,
   "id": "f4ca2615",
   "metadata": {},
   "outputs": [],
   "source": [
    "model1=KNeighborsClassifier(n_neighbors = 8)"
   ]
  },
  {
   "cell_type": "raw",
   "id": "6be88267",
   "metadata": {},
   "source": [
    "La fonction fit() entraîne l'algorithme sur les données d'entraînement qui sont une entrée que nous utilisons pour permettre à l'algorithme d'apprentissage automatique d'\"apprendre\", afin qu'il puisse améliorer ses performances sur la survie ou non d'un passager."
   ]
  },
  {
   "cell_type": "code",
   "execution_count": 47,
   "id": "2f1d65e0",
   "metadata": {},
   "outputs": [
    {
     "data": {
      "text/plain": [
       "KNeighborsClassifier(n_neighbors=8)"
      ]
     },
     "execution_count": 47,
     "metadata": {},
     "output_type": "execute_result"
    }
   ],
   "source": [
    "model1.fit(X,y)"
   ]
  },
  {
   "cell_type": "raw",
   "id": "c9ab1a82",
   "metadata": {},
   "source": [
    "La fonction predict() permet de prédire dans ce cas la survie ou non d'un passager,elle renvoie la colonne \"Survived\" du dataframe passé en argument en fonction des données apprises obtenues à partir du modèle."
   ]
  },
  {
   "cell_type": "code",
   "execution_count": 48,
   "id": "c76080a9",
   "metadata": {},
   "outputs": [
    {
     "name": "stderr",
     "output_type": "stream",
     "text": [
      "C:\\ProgramData\\Anaconda3\\lib\\site-packages\\sklearn\\neighbors\\_classification.py:228: FutureWarning: Unlike other reduction functions (e.g. `skew`, `kurtosis`), the default behavior of `mode` typically preserves the axis it acts along. In SciPy 1.11.0, this behavior will change: the default value of `keepdims` will become False, the `axis` over which the statistic is taken will be eliminated, and the value None will no longer be accepted. Set `keepdims` to True or False to avoid this warning.\n",
      "  mode, _ = stats.mode(_y[neigh_ind, k], axis=1)\n",
      "C:\\ProgramData\\Anaconda3\\lib\\site-packages\\sklearn\\neighbors\\_classification.py:228: FutureWarning: Unlike other reduction functions (e.g. `skew`, `kurtosis`), the default behavior of `mode` typically preserves the axis it acts along. In SciPy 1.11.0, this behavior will change: the default value of `keepdims` will become False, the `axis` over which the statistic is taken will be eliminated, and the value None will no longer be accepted. Set `keepdims` to True or False to avoid this warning.\n",
      "  mode, _ = stats.mode(_y[neigh_ind, k], axis=1)\n"
     ]
    }
   ],
   "source": [
    "X_test_prediction=model1.predict(X_test)\n",
    "X_train_prediction=model1.predict(X_train)"
   ]
  },
  {
   "cell_type": "raw",
   "id": "27ab73a8",
   "metadata": {},
   "source": [
    "La fonction accuracy_score() est utilisée pour calculer le nombre de prédictions correctes. Elle représente le rapport de la somme des vrais positifs (le passager a survécu et prévu survivant dans notre cas) et des vrais négatifs (le passager est mort et prévu mort) sur toutes les prédictions."
   ]
  },
  {
   "cell_type": "code",
   "execution_count": 49,
   "id": "614c8ef4",
   "metadata": {},
   "outputs": [],
   "source": [
    "acc1=accuracy_score(y_test,X_test_prediction)\n",
    "acc2=accuracy_score(y_train,X_train_prediction)"
   ]
  },
  {
   "cell_type": "code",
   "execution_count": 50,
   "id": "4addcc20",
   "metadata": {},
   "outputs": [
    {
     "name": "stdout",
     "output_type": "stream",
     "text": [
      "0.8097014925373134\n",
      "0.8491171749598716\n"
     ]
    }
   ],
   "source": [
    "print(acc1)\n",
    "print(acc2)"
   ]
  },
  {
   "cell_type": "markdown",
   "id": "155446a3",
   "metadata": {},
   "source": [
    "# DecisionTreeClassifier\n"
   ]
  },
  {
   "cell_type": "raw",
   "id": "67fcb77e",
   "metadata": {},
   "source": [
    "Decision Tree est un algorithme permettant de classifier des données en se basant sur des suites de conditions. Il se compose de noeud, de branche et de feuilles. Dans un noeud, l’algorithme teste un feature du dataset pour discriminer les données et crée une règle de discrimination. Le Decision Tree continue ce processus jusqu’à obtenir des groupes qui correspondent le mieux possible à chacune des classes."
   ]
  },
  {
   "cell_type": "code",
   "execution_count": 51,
   "id": "b6408a33",
   "metadata": {},
   "outputs": [],
   "source": [
    "model2=DecisionTreeClassifier()"
   ]
  },
  {
   "cell_type": "code",
   "execution_count": 52,
   "id": "ca2e645a",
   "metadata": {},
   "outputs": [
    {
     "data": {
      "text/plain": [
       "DecisionTreeClassifier()"
      ]
     },
     "execution_count": 52,
     "metadata": {},
     "output_type": "execute_result"
    }
   ],
   "source": [
    "model2.fit(X_train,y_train)"
   ]
  },
  {
   "cell_type": "code",
   "execution_count": 53,
   "id": "e5c1089c",
   "metadata": {},
   "outputs": [],
   "source": [
    "X_test_prediction=model2.predict(X_test)\n",
    "X_train_prediction=model2.predict(X_train)"
   ]
  },
  {
   "cell_type": "code",
   "execution_count": 54,
   "id": "2ce08550",
   "metadata": {},
   "outputs": [],
   "source": [
    "acc3=accuracy_score(y_test,X_test_prediction)\n",
    "acc4=accuracy_score(y_train,X_train_prediction)"
   ]
  },
  {
   "cell_type": "code",
   "execution_count": 55,
   "id": "0a00a752",
   "metadata": {},
   "outputs": [
    {
     "name": "stdout",
     "output_type": "stream",
     "text": [
      "0.7686567164179104\n",
      "0.9887640449438202\n"
     ]
    }
   ],
   "source": [
    "print(acc3)\n",
    "print(acc4)"
   ]
  },
  {
   "cell_type": "markdown",
   "id": "42f24af9",
   "metadata": {},
   "source": [
    "# Random Forest"
   ]
  },
  {
   "cell_type": "raw",
   "id": "354479b4",
   "metadata": {},
   "source": [
    "Le Random Forest est un algorithme qui est composé de plusieurs arbres. Chaque arbre est entraîné sur un sous-ensemble du dataset et donne un résultat (survivant ou mort dans notre cas). Les résultats de tous les arbres de décision sont combinés pour donner une réponse finale. Chaque arbre vote et la réponse finale est celle qui est la majoritaire."
   ]
  },
  {
   "cell_type": "code",
   "execution_count": 56,
   "id": "c14b8442",
   "metadata": {},
   "outputs": [],
   "source": [
    "model3=RandomForestClassifier(n_estimators=160,max_depth=13)"
   ]
  },
  {
   "cell_type": "code",
   "execution_count": 57,
   "id": "b0e46e4c",
   "metadata": {},
   "outputs": [
    {
     "data": {
      "text/plain": [
       "RandomForestClassifier(max_depth=13, n_estimators=160)"
      ]
     },
     "execution_count": 57,
     "metadata": {},
     "output_type": "execute_result"
    }
   ],
   "source": [
    "model3.fit(X_train,y_train)"
   ]
  },
  {
   "cell_type": "code",
   "execution_count": 58,
   "id": "acfcd7cc",
   "metadata": {},
   "outputs": [],
   "source": [
    "X_test_prediction=model3.predict(X_test)\n",
    "X_train_prediction=model3.predict(X_train)"
   ]
  },
  {
   "cell_type": "code",
   "execution_count": 59,
   "id": "2fccbb8e",
   "metadata": {},
   "outputs": [],
   "source": [
    "acc5=accuracy_score(y_test,X_test_prediction)\n",
    "acc6=accuracy_score(y_train,X_train_prediction)"
   ]
  },
  {
   "cell_type": "code",
   "execution_count": 60,
   "id": "bc5d6926",
   "metadata": {},
   "outputs": [
    {
     "name": "stdout",
     "output_type": "stream",
     "text": [
      "0.8246268656716418\n",
      "0.9807383627608347\n"
     ]
    }
   ],
   "source": [
    "print(acc5)\n",
    "print(acc6)"
   ]
  },
  {
   "cell_type": "code",
   "execution_count": 61,
   "id": "b563f59c",
   "metadata": {},
   "outputs": [],
   "source": [
    "#On prédit sur le dataframe \"test\"\n",
    "submission_preds=model3.predict(test)"
   ]
  },
  {
   "cell_type": "code",
   "execution_count": 62,
   "id": "8c014fc1",
   "metadata": {},
   "outputs": [],
   "source": [
    "#Creation du dataframe df qui contient uniquement deux colonnes, \"PassengerId\" et \"Survived\"(prédit auaparavant) pour le\n",
    "#soumettre sur Kaggle\n",
    "df=pd.DataFrame({\"PassengerId\":test_ids.values,\n",
    "                 \"Survived\":submission_preds,\n",
    "                })"
   ]
  },
  {
   "cell_type": "code",
   "execution_count": 63,
   "id": "644b3e0e",
   "metadata": {},
   "outputs": [],
   "source": [
    "df.to_csv(\"submission.csv\", index=False)"
   ]
  },
  {
   "cell_type": "code",
   "execution_count": 64,
   "id": "6153699a",
   "metadata": {},
   "outputs": [
    {
     "data": {
      "text/plain": [
       "Text(0.5, 1.0, 'Feature Importance')"
      ]
     },
     "execution_count": 64,
     "metadata": {},
     "output_type": "execute_result"
    },
    {
     "data": {
      "image/png": "[encoded data removed]",
      "text/plain": [
       "<Figure size 1200x600 with 1 Axes>"
      ]
     },
     "metadata": {},
     "output_type": "display_data"
    }
   ],
   "source": [
    "feature_importance = model3.feature_importances_\n",
    "sorted_idx = np.argsort(feature_importance)\n",
    "fig = plt.figure(figsize=(12, 6))\n",
    "plt.barh(range(len(sorted_idx)), feature_importance[sorted_idx], align='center')\n",
    "plt.yticks(range(len(sorted_idx)), np.array(X_test.columns)[sorted_idx])\n",
    "plt.title('Feature Importance')"
   ]
  },
  {
   "cell_type": "raw",
   "id": "2b93f6b2",
   "metadata": {},
   "source": [
    "Par cette figure, nous constatons que pour le modèle \"Random Forest\", les features les plus influents sur la survie ou non d'un passager sont \"Sex\", \"Fare\" et \"Age\"."
   ]
  },
  {
   "cell_type": "code",
   "execution_count": 65,
   "id": "b5df4048",
   "metadata": {},
   "outputs": [
    {
     "name": "stdout",
     "output_type": "stream",
     "text": [
      "[[149  11]\n",
      " [ 36  72]]\n"
     ]
    }
   ],
   "source": [
    "#matrice de confusion\n",
    "matrix = confusion_matrix(y_test,X_test_prediction)\n",
    "print(matrix)"
   ]
  },
  {
   "cell_type": "raw",
   "id": "4c729b19",
   "metadata": {},
   "source": [
    "La matrice de confusion nous montre que:\n",
    "-146 passagers morts que le modèle a prédit qu'ils sont morts\n",
    "-72 passagers qui ont survécu et le modèle a prédit qu'ils ont survécu \n",
    "-14 passagers qui ont survécu mais le modèle a prédit qu'ils sont morts\n",
    "-36 qui sont morts mais le modèle prédit qu'ils ont survécu"
   ]
  },
  {
   "cell_type": "markdown",
   "id": "52307b8e",
   "metadata": {},
   "source": [
    "# GaussianNB"
   ]
  },
  {
   "cell_type": "raw",
   "id": "9b0759d7",
   "metadata": {},
   "source": [
    "L'algorithme Gaussian Naive Bayes est un modèle supervisé permettant la classification en se basant sur le théorème de Bayes avec une forte indépendance des hypothèses c’est-à-dire pas de corrélation entre les caractéristiques d’un ensemble de données."
   ]
  },
  {
   "cell_type": "code",
   "execution_count": 66,
   "id": "02d623e9",
   "metadata": {},
   "outputs": [],
   "source": [
    "model4=GaussianNB()"
   ]
  },
  {
   "cell_type": "code",
   "execution_count": 67,
   "id": "0531d67c",
   "metadata": {},
   "outputs": [
    {
     "data": {
      "text/plain": [
       "GaussianNB()"
      ]
     },
     "execution_count": 67,
     "metadata": {},
     "output_type": "execute_result"
    }
   ],
   "source": [
    "model4.fit(X,y)"
   ]
  },
  {
   "cell_type": "code",
   "execution_count": 68,
   "id": "f85a967f",
   "metadata": {},
   "outputs": [],
   "source": [
    "X_test_prediction=model4.predict(X_test)\n",
    "X_train_prediction=model4.predict(X_train)"
   ]
  },
  {
   "cell_type": "code",
   "execution_count": 69,
   "id": "85c0c2d0",
   "metadata": {},
   "outputs": [],
   "source": [
    "acc7=accuracy_score(y_test,X_test_prediction)\n",
    "acc8=accuracy_score(y_train,X_train_prediction)"
   ]
  },
  {
   "cell_type": "code",
   "execution_count": 70,
   "id": "89204820",
   "metadata": {},
   "outputs": [
    {
     "name": "stdout",
     "output_type": "stream",
     "text": [
      "0.7947761194029851\n",
      "0.7929373996789727\n"
     ]
    }
   ],
   "source": [
    "print(acc7)\n",
    "print(acc8)"
   ]
  },
  {
   "cell_type": "markdown",
   "id": "eedbc12c",
   "metadata": {},
   "source": [
    "# LinearSupportVectorMachine\n"
   ]
  },
  {
   "cell_type": "raw",
   "id": "1615020b",
   "metadata": {},
   "source": [
    "L'algorithme LinearSupportVectorMachine cherche à trouver un hyperplan dans un espace à N dimensions (N étant le nombre de features) qui classe distinctement les points de données c'est-à-dire que la distance est maximale entre les points de données."
   ]
  },
  {
   "cell_type": "code",
   "execution_count": 71,
   "id": "605496c4",
   "metadata": {},
   "outputs": [],
   "source": [
    "model5=LinearSVC()"
   ]
  },
  {
   "cell_type": "code",
   "execution_count": 72,
   "id": "b930b36f",
   "metadata": {},
   "outputs": [
    {
     "name": "stderr",
     "output_type": "stream",
     "text": [
      "C:\\ProgramData\\Anaconda3\\lib\\site-packages\\sklearn\\svm\\_base.py:1206: ConvergenceWarning: Liblinear failed to converge, increase the number of iterations.\n",
      "  warnings.warn(\n"
     ]
    },
    {
     "data": {
      "text/plain": [
       "LinearSVC()"
      ]
     },
     "execution_count": 72,
     "metadata": {},
     "output_type": "execute_result"
    }
   ],
   "source": [
    "model5.fit(X,y)"
   ]
  },
  {
   "cell_type": "code",
   "execution_count": 73,
   "id": "23509cac",
   "metadata": {},
   "outputs": [],
   "source": [
    "X_test_prediction=model5.predict(X_test)\n",
    "X_train_prediction=model5.predict(X_train)"
   ]
  },
  {
   "cell_type": "code",
   "execution_count": 74,
   "id": "181fbfc9",
   "metadata": {},
   "outputs": [],
   "source": [
    "acc9=accuracy_score(y_test,X_test_prediction)\n",
    "acc10=accuracy_score(y_train,X_train_prediction)"
   ]
  },
  {
   "cell_type": "code",
   "execution_count": 75,
   "id": "12c8e1e9",
   "metadata": {},
   "outputs": [
    {
     "name": "stdout",
     "output_type": "stream",
     "text": [
      "0.7723880597014925\n",
      "0.8105939004815409\n"
     ]
    }
   ],
   "source": [
    "print(acc9)\n",
    "print(acc10)"
   ]
  },
  {
   "cell_type": "markdown",
   "id": "f43fe15f",
   "metadata": {},
   "source": [
    "# LogisticRegression"
   ]
  },
  {
   "cell_type": "raw",
   "id": "0a25c7ca",
   "metadata": {},
   "source": [
    "La régression logistique s'appuit sur le fonction sigmoïde qui génère des valeurs entre 0 et 1. Puisque la réponse est binaire (survivant ou non dans notre exemple), la variable de réponse a une distribution de Bernoulli. De plus, chaque résultat de réponse est déterminé par la probabilité de succès prédite."
   ]
  },
  {
   "cell_type": "code",
   "execution_count": 76,
   "id": "11d1d3e5",
   "metadata": {},
   "outputs": [],
   "source": [
    "model6=LogisticRegression()"
   ]
  },
  {
   "cell_type": "code",
   "execution_count": 77,
   "id": "0447b651",
   "metadata": {},
   "outputs": [
    {
     "data": {
      "text/plain": [
       "LogisticRegression()"
      ]
     },
     "execution_count": 77,
     "metadata": {},
     "output_type": "execute_result"
    }
   ],
   "source": [
    "model6.fit(X,y)"
   ]
  },
  {
   "cell_type": "code",
   "execution_count": 78,
   "id": "db43d7a7",
   "metadata": {},
   "outputs": [],
   "source": [
    "X_test_prediction=model6.predict(X_test)\n",
    "X_train_prediction=model6.predict(X_train)"
   ]
  },
  {
   "cell_type": "code",
   "execution_count": 79,
   "id": "7065eabd",
   "metadata": {},
   "outputs": [],
   "source": [
    "acc11=accuracy_score(y_test,X_test_prediction)\n",
    "acc12=accuracy_score(y_train,X_train_prediction)"
   ]
  },
  {
   "cell_type": "code",
   "execution_count": 80,
   "id": "2a09ac08",
   "metadata": {},
   "outputs": [
    {
     "name": "stdout",
     "output_type": "stream",
     "text": [
      "0.7798507462686567\n",
      "0.8105939004815409\n"
     ]
    }
   ],
   "source": [
    "print(acc11)\n",
    "print(acc12)"
   ]
  },
  {
   "cell_type": "markdown",
   "id": "85505385",
   "metadata": {},
   "source": [
    "# AdaBoost"
   ]
  },
  {
   "cell_type": "raw",
   "id": "97f38391",
   "metadata": {},
   "source": [
    "Ada-boost est l'un des classificateurs de renforcement d'ensemble. Il combine plusieurs classificateurs pour augmenter la précision de ses derniers. Le classificateur AdaBoost crée,en combinant plusieurs classificateurs peu performants, un classificateur puissant de haute précision. Le concept de base est de définir les poids des classificateurs et de former l'échantillon de données à chaque itération de manière à garantir des prédictions précises d'observations inhabituelles."
   ]
  },
  {
   "cell_type": "code",
   "execution_count": 81,
   "id": "44291200",
   "metadata": {},
   "outputs": [],
   "source": [
    "model7=AdaBoostClassifier(n_estimators=100, random_state=0)"
   ]
  },
  {
   "cell_type": "code",
   "execution_count": 82,
   "id": "4de23a45",
   "metadata": {},
   "outputs": [
    {
     "data": {
      "text/plain": [
       "AdaBoostClassifier(n_estimators=100, random_state=0)"
      ]
     },
     "execution_count": 82,
     "metadata": {},
     "output_type": "execute_result"
    }
   ],
   "source": [
    "model7.fit(X,y)"
   ]
  },
  {
   "cell_type": "code",
   "execution_count": 83,
   "id": "06759827",
   "metadata": {},
   "outputs": [],
   "source": [
    "X_test_prediction=model7.predict(X_test)\n",
    "X_train_prediction=model7.predict(X_train)"
   ]
  },
  {
   "cell_type": "code",
   "execution_count": 84,
   "id": "37cb12a1",
   "metadata": {},
   "outputs": [],
   "source": [
    "acc13=accuracy_score(y_test,X_test_prediction)\n",
    "acc14=accuracy_score(y_train,X_train_prediction)"
   ]
  },
  {
   "cell_type": "code",
   "execution_count": 85,
   "id": "ac13a1ca",
   "metadata": {},
   "outputs": [
    {
     "name": "stdout",
     "output_type": "stream",
     "text": [
      "0.8283582089552238\n",
      "0.8475120385232745\n"
     ]
    }
   ],
   "source": [
    "print(acc13)\n",
    "print(acc14)"
   ]
  },
  {
   "cell_type": "markdown",
   "id": "8e9dd8c7",
   "metadata": {},
   "source": [
    "## Les résultats de tous les modèles "
   ]
  },
  {
   "cell_type": "code",
   "execution_count": 86,
   "id": "4bf274a7",
   "metadata": {},
   "outputs": [
    {
     "data": {
      "text/html": [
       "<div>\n",
       "<style scoped>\n",
       "    .dataframe tbody tr th:only-of-type {\n",
       "        vertical-align: middle;\n",
       "    }\n",
       "\n",
       "    .dataframe tbody tr th {\n",
       "        vertical-align: top;\n",
       "    }\n",
       "\n",
       "    .dataframe thead th {\n",
       "        text-align: right;\n",
       "    }\n",
       "</style>\n",
       "<table border=\"1\" class=\"dataframe\">\n",
       "  <thead>\n",
       "    <tr style=\"text-align: right;\">\n",
       "      <th></th>\n",
       "      <th>Score</th>\n",
       "    </tr>\n",
       "    <tr>\n",
       "      <th>Model</th>\n",
       "      <th></th>\n",
       "    </tr>\n",
       "  </thead>\n",
       "  <tbody>\n",
       "    <tr>\n",
       "      <th>AdaBoostClassifier</th>\n",
       "      <td>0.828358</td>\n",
       "    </tr>\n",
       "    <tr>\n",
       "      <th>RandomForest</th>\n",
       "      <td>0.824627</td>\n",
       "    </tr>\n",
       "    <tr>\n",
       "      <th>KNeighborsClassifier</th>\n",
       "      <td>0.809701</td>\n",
       "    </tr>\n",
       "    <tr>\n",
       "      <th>GaussianNB</th>\n",
       "      <td>0.794776</td>\n",
       "    </tr>\n",
       "    <tr>\n",
       "      <th>LogisticRegression</th>\n",
       "      <td>0.779851</td>\n",
       "    </tr>\n",
       "    <tr>\n",
       "      <th>LinearSupportVectorMachine</th>\n",
       "      <td>0.772388</td>\n",
       "    </tr>\n",
       "    <tr>\n",
       "      <th>DecisionTreeClassifier</th>\n",
       "      <td>0.768657</td>\n",
       "    </tr>\n",
       "  </tbody>\n",
       "</table>\n",
       "</div>"
      ],
      "text/plain": [
       "                               Score\n",
       "Model                               \n",
       "AdaBoostClassifier          0.828358\n",
       "RandomForest                0.824627\n",
       "KNeighborsClassifier        0.809701\n",
       "GaussianNB                  0.794776\n",
       "LogisticRegression          0.779851\n",
       "LinearSupportVectorMachine  0.772388\n",
       "DecisionTreeClassifier      0.768657"
      ]
     },
     "execution_count": 86,
     "metadata": {},
     "output_type": "execute_result"
    }
   ],
   "source": [
    "results = pd.DataFrame({\n",
    "    'Model': ['KNeighborsClassifier','DecisionTreeClassifier',\n",
    "              'RandomForest','GaussianNB',\n",
    "              'LinearSupportVectorMachine','LogisticRegression','AdaBoostClassifier'],\n",
    "    'Score': [acc1, acc3,acc5,acc7,acc9,acc11,acc13]})\n",
    "result_df = results.sort_values(by='Score', ascending=False)\n",
    "result_df = result_df.set_index('Model')\n",
    "result_df.head(9)"
   ]
  },
  {
   "cell_type": "code",
   "execution_count": null,
   "id": "af8ce04c",
   "metadata": {},
   "outputs": [],
   "source": []
  },
  {
   "cell_type": "code",
   "execution_count": null,
   "id": "5c63c1b6",
   "metadata": {},
   "outputs": [],
   "source": []
  }
 ],
 "metadata": {
  "kernelspec": {
   "display_name": "Python 3 (ipykernel)",
   "language": "python",
   "name": "python3"
  },
  "language_info": {
   "codemirror_mode": {
    "name": "ipython",
    "version": 3
   },
   "file_extension": ".py",
   "mimetype": "text/x-python",
   "name": "python",
   "nbconvert_exporter": "python",
   "pygments_lexer": "ipython3",
   "version": "3.9.13"
  }
 },
 "nbformat": 4,
 "nbformat_minor": 5
}
